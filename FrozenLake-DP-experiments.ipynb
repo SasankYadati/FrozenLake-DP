{
 "metadata": {
  "language_info": {
   "codemirror_mode": {
    "name": "ipython",
    "version": 3
   },
   "file_extension": ".py",
   "mimetype": "text/x-python",
   "name": "python",
   "nbconvert_exporter": "python",
   "pygments_lexer": "ipython3",
   "version": "3.7.9-final"
  },
  "orig_nbformat": 2,
  "kernelspec": {
   "name": "python3",
   "display_name": "Python 3"
  }
 },
 "nbformat": 4,
 "nbformat_minor": 2,
 "cells": [
  {
   "cell_type": "code",
   "execution_count": 1,
   "metadata": {},
   "outputs": [],
   "source": [
    "import gym\n",
    "from MarkovDecisionProcess import MarkovDecisionProcess as MDP\n",
    "from Agent import Agent\n",
    "env = gym.make('FrozenLake-v0', is_slippery=False)\n",
    "env.reset()\n",
    "mdp = MDP(env.observation_space.n, env.action_space.n, env.unwrapped.P)"
   ]
  },
  {
   "cell_type": "code",
   "execution_count": 7,
   "metadata": {
    "tags": []
   },
   "outputs": [
    {
     "output_type": "stream",
     "name": "stdout",
     "text": [
      "1.0\n1.0\n"
     ]
    }
   ],
   "source": [
    "def run_experiment(env, agent, render=False):\n",
    "    observation = 0\n",
    "    done = False\n",
    "    env.reset()\n",
    "    render and env.render()\n",
    "    tot_reward = 0\n",
    "    while not done:\n",
    "        action = agent.get_action(observation)\n",
    "        observation, reward, done, info = env.step(action)\n",
    "        tot_reward += reward\n",
    "        render and env.render()\n",
    "    env.close()\n",
    "    return tot_reward\n",
    "agent1 = Agent(mdp, 0.999, 0.0001)\n",
    "agent1.policy_iteration()\n",
    "agent2 = Agent(mdp, 0.999, 0.0001)\n",
    "agent2.value_iteration()\n",
    "\n",
    "print(run_experiment(env, agent1))\n",
    "print(run_experiment(env, agent2))\n"
   ]
  },
  {
   "cell_type": "code",
   "execution_count": null,
   "metadata": {},
   "outputs": [],
   "source": [
    "agent = Agent(mdp, 1, 0.001)\n",
    "observation = 0\n",
    "done = False\n",
    "env.reset()\n",
    "env.render()\n",
    "while not done:\n",
    "    action = agent.get_action(observation)\n",
    "    observation, reward, done, info = env.step(action)\n",
    "    env.render()\n",
    "env.close()"
   ]
  },
  {
   "cell_type": "code",
   "execution_count": null,
   "metadata": {},
   "outputs": [],
   "source": [
    "import gym\n",
    "from MarkovDecisionProcess import MarkovDecisionProcess as MDP\n",
    "env = gym.make('FrozenLake-v0', is_slippery=False)\n",
    "env.render()\n",
    "mdp = MDP(env.observation_space.n, env.action_space.n, env.unwrapped.P)\n",
    "print(\"Number of states \", mdp.num_states)\n",
    "print(\"Number of actions \", mdp.num_actions)\n",
    "sample_actions = {'LEFT':0, 'UP':3}\n",
    "sample_states = [0,11,15]\n",
    "for s in sample_states:\n",
    "    for a in sample_actions.keys():\n",
    "        print(f\"Transitions for state {s} and action {a} are\\n \", mdp.P[s][sample_actions[a]])"
   ]
  },
  {
   "cell_type": "code",
   "execution_count": null,
   "metadata": {},
   "outputs": [],
   "source": []
  }
 ]
}